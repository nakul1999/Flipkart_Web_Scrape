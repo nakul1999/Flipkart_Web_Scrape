{
 "cells": [
  {
   "cell_type": "markdown",
   "metadata": {},
   "source": [
    "plan:\n",
    "\n",
    "print the price list of all items in the pandas dataframe for anyitem searched on amazon or flipkart\n"
   ]
  },
  {
   "cell_type": "code",
   "execution_count": 35,
   "metadata": {},
   "outputs": [],
   "source": [
    "import requests\n",
    "from bs4 import BeautifulSoup as bs\n",
    "import pandas as pd"
   ]
  },
  {
   "cell_type": "markdown",
   "metadata": {},
   "source": [
    "making the search url"
   ]
  },
  {
   "cell_type": "code",
   "execution_count": 36,
   "metadata": {},
   "outputs": [
    {
     "name": "stdout",
     "output_type": "stream",
     "text": [
      "Enter the item you wish to search for in flipkart or amazon\n",
      "jack and jones shirt\n",
      "https://www.flipkart.com/search?q=jack+and+jones+shirt\n",
      "\n",
      " https://www.amazon.in/s?k=jack+and+jones+shirt\n"
     ]
    }
   ],
   "source": [
    "items = \"+\".join(input(\"Enter the item you wish to search for in flipkart or amazon\\n\").split())\n",
    "\n",
    "fliplink = 'https://www.flipkart.com/search?q='+items\n",
    "\n",
    "amzlink = 'https://www.amazon.in/s?k='+items\n",
    "\n",
    "print(fliplink)\n",
    "\n",
    "print(\"\\n\",amzlink)"
   ]
  },
  {
   "cell_type": "code",
   "execution_count": 37,
   "metadata": {
    "scrolled": true
   },
   "outputs": [
    {
     "data": {
      "text/plain": [
       "[('Jack & Jones', 'Men Solid Casual Button Down Shirt', '₹599'),\n",
       " ('Jack & Jones', 'Men Solid Casual Shirt', '₹899'),\n",
       " ('Jack & Jones', 'Men Checkered Casual Spread Shirt', '₹979'),\n",
       " ('Jack & Jones', 'Men Solid Casual Button Down Shirt', '₹599'),\n",
       " ('Jack & Jones', 'Men Solid Casual Mandarin Shirt', '₹599'),\n",
       " ('Jack & Jones', 'Men Solid Casual Shirt', '₹749'),\n",
       " ('Jack & Jones', 'Men Solid Casual Spread Shirt', '₹1,199'),\n",
       " ('Jack & Jones', 'Men Solid Casual Spread Shirt', '₹899'),\n",
       " ('Jack & Jones', 'Men Printed Casual Button Down Shirt', '₹749'),\n",
       " ('Jack & Jones', 'Men Solid Casual Shirt', '₹1,162'),\n",
       " ('Jack & Jones', 'Men Solid Casual Cut Away Shirt', '₹749'),\n",
       " ('Jack & Jones', 'Men Washed Casual Shirt', '₹899'),\n",
       " ('Jack & Jones', 'Men Printed Casual Shirt', '₹1,154'),\n",
       " ('Jack & Jones', 'Men Printed Casual Shirt', '₹749'),\n",
       " ('Jack & Jones', 'Men Checkered Casual Spread Shirt', '₹749'),\n",
       " ('Jack & Jones', 'Men Self Design Casual Spread Shirt', '₹1,049'),\n",
       " ('Jack & Jones', 'Men Washed Casual Button Down Shirt', '₹979'),\n",
       " ('Jack & Jones', 'Men Checkered Casual Spread Shirt', '₹979'),\n",
       " ('Jack & Jones', 'Men Embroidered Casual Spread Shirt', '₹1,649'),\n",
       " ('Jack & Jones', 'Men Checkered Casual Spread Shirt', '₹1,249')]"
      ]
     },
     "execution_count": 37,
     "metadata": {},
     "output_type": "execute_result"
    }
   ],
   "source": [
    "res = requests.get(fliplink)\n",
    "soup = bs(res.content,'html.parser')\n",
    "\n",
    "item_prices = []\n",
    "abc = soup.find_all(\"div\" , {\"class\":\"_1vC4OE\"})\n",
    "abc = abc[:20]\n",
    "for i in abc:\n",
    "    item_prices.append(i.getText())\n",
    "    \n",
    "    item_names = []\n",
    "abc = soup.find_all('a',{\"class\":\"_2mylT6\"})\n",
    "abc = abc[:20]\n",
    "for i in abc:\n",
    "    item_names.append(i.getText())\n",
    "    \n",
    "    \n",
    "item_brands = []\n",
    "abc = soup.find_all(\"div\",{\"class\":\"_2B_pmu\"})\n",
    "abc = abc[:20]\n",
    "for i in abc:\n",
    "    item_brands.append(i.getText())\n",
    "\n",
    "items = [(item_brands[i],item_names[i],item_prices[i]) for i in range(len(item_names))]\n",
    "\n",
    "items\n"
   ]
  },
  {
   "cell_type": "code",
   "execution_count": 38,
   "metadata": {},
   "outputs": [],
   "source": [
    "img = soup.find(\"img\",{\"class\":\"_3togXc\"})"
   ]
  },
  {
   "cell_type": "code",
   "execution_count": 39,
   "metadata": {},
   "outputs": [
    {
     "data": {
      "text/plain": [
       "<img alt=\"\" class=\"_3togXc\" src=\"\"/>"
      ]
     },
     "execution_count": 39,
     "metadata": {},
     "output_type": "execute_result"
    }
   ],
   "source": [
    "img"
   ]
  },
  {
   "cell_type": "code",
   "execution_count": null,
   "metadata": {},
   "outputs": [],
   "source": []
  },
  {
   "cell_type": "code",
   "execution_count": 32,
   "metadata": {},
   "outputs": [],
   "source": [
    "az= 'https://www.amazon.in/s?k=mens+jacket&ref=nb_sb_noss_2'"
   ]
  },
  {
   "cell_type": "code",
   "execution_count": 45,
   "metadata": {},
   "outputs": [
    {
     "ename": "NameError",
     "evalue": "name 'url' is not defined",
     "output_type": "error",
     "traceback": [
      "\u001b[1;31m---------------------------------------------------------------------------\u001b[0m",
      "\u001b[1;31mNameError\u001b[0m                                 Traceback (most recent call last)",
      "\u001b[1;32m<ipython-input-45-0f0158fdd15b>\u001b[0m in \u001b[0;36m<module>\u001b[1;34m\u001b[0m\n\u001b[0;32m      1\u001b[0m \u001b[0mres\u001b[0m\u001b[1;33m=\u001b[0m\u001b[0mrequests\u001b[0m\u001b[1;33m.\u001b[0m\u001b[0mget\u001b[0m\u001b[1;33m(\u001b[0m\u001b[0maz\u001b[0m\u001b[1;33m)\u001b[0m\u001b[1;33m\u001b[0m\u001b[1;33m\u001b[0m\u001b[0m\n\u001b[0;32m      2\u001b[0m \u001b[0mres\u001b[0m\u001b[1;33m.\u001b[0m\u001b[0mstatus_code\u001b[0m\u001b[1;33m\u001b[0m\u001b[1;33m\u001b[0m\u001b[0m\n\u001b[1;32m----> 3\u001b[1;33m \u001b[0mr\u001b[0m \u001b[1;33m=\u001b[0m \u001b[0mrequests\u001b[0m\u001b[1;33m.\u001b[0m\u001b[0mget\u001b[0m\u001b[1;33m(\u001b[0m\u001b[0murl\u001b[0m\u001b[1;33m,\u001b[0m \u001b[0mheaders\u001b[0m\u001b[1;33m=\u001b[0m\u001b[0mheaders\u001b[0m\u001b[1;33m,\u001b[0m \u001b[0mproxies\u001b[0m\u001b[1;33m=\u001b[0m\u001b[0mproxies\u001b[0m\u001b[1;33m)\u001b[0m\u001b[1;33m\u001b[0m\u001b[1;33m\u001b[0m\u001b[0m\n\u001b[0m",
      "\u001b[1;31mNameError\u001b[0m: name 'url' is not defined"
     ]
    }
   ],
   "source": [
    "res=requests.get(az)\n",
    "res.status_code\n",
    "r = requests.get(url, headers=headers, proxies=proxies)"
   ]
  },
  {
   "cell_type": "code",
   "execution_count": 43,
   "metadata": {},
   "outputs": [
    {
     "data": {
      "text/plain": [
       "'\\nsoup = bs(res.content,\\'html.parser\\')\\n\\nabc = soup.find_all(\"span\",{\\'class\\':\" a-price\"})\\n\\nabc\\n\\n'"
      ]
     },
     "execution_count": 43,
     "metadata": {},
     "output_type": "execute_result"
    }
   ],
   "source": [
    "\n",
    "'''\n",
    "soup = bs(res.content,'html.parser')\n",
    "\n",
    "abc = soup.find_all(\"span\",{'class':\" a-price\"})\n",
    "\n",
    "abc\n",
    "\n",
    "'''"
   ]
  },
  {
   "cell_type": "code",
   "execution_count": 79,
   "metadata": {
    "scrolled": true
   },
   "outputs": [
    {
     "data": {
      "text/plain": [
       "[('Full Sleeve Applique Women Jacket', '₹474'),\n",
       " ('Full Sleeve Solid Women Denim Jacket', '₹474'),\n",
       " ('3/4th Sleeve Solid Women Jacket', '₹499'),\n",
       " ('3/4th Sleeve Solid Women Jacket', '₹499'),\n",
       " ('Full Sleeve Solid Women Denim Jacket', '₹474'),\n",
       " ('3/4th Sleeve Solid Women Jacket', '₹499'),\n",
       " ('Full Sleeve Solid Women Denim Jacket', '₹450'),\n",
       " ('Full Sleeve Washed Men Jacket', '₹1,259'),\n",
       " (\"Full Sleeve Solid Men's Jacket\", '₹2,249'),\n",
       " ('Full Sleeve Washed Men Denim Jacket', '₹1,399'),\n",
       " ('Sleeveless Solid Boys Denim Jacket', '₹729'),\n",
       " ('3/4th Sleeve Solid Women Jacket', '₹499'),\n",
       " ('Full Sleeve Washed Women Jacket', '₹599'),\n",
       " ('Full Sleeve Solid Women Jacket', '₹529'),\n",
       " ('Full Sleeve Floral Print Women Denim Jacket', '₹499'),\n",
       " ('Full Sleeve Washed Women Jacket', '₹599'),\n",
       " ('Full Sleeve Washed Women Jacket', '₹599'),\n",
       " (\"Full Sleeve Solid Men's Denim Jacket\", '₹1,499'),\n",
       " ('Full Sleeve Solid Men Denim Jacket', '₹1,208'),\n",
       " ('Full Sleeve Solid Women Jacket', '₹529')]"
      ]
     },
     "execution_count": 79,
     "metadata": {},
     "output_type": "execute_result"
    }
   ],
   "source": []
  },
  {
   "cell_type": "code",
   "execution_count": 80,
   "metadata": {},
   "outputs": [
    {
     "data": {
      "text/html": [
       "<div>\n",
       "<style scoped>\n",
       "    .dataframe tbody tr th:only-of-type {\n",
       "        vertical-align: middle;\n",
       "    }\n",
       "\n",
       "    .dataframe tbody tr th {\n",
       "        vertical-align: top;\n",
       "    }\n",
       "\n",
       "    .dataframe thead th {\n",
       "        text-align: right;\n",
       "    }\n",
       "</style>\n",
       "<table border=\"1\" class=\"dataframe\">\n",
       "  <thead>\n",
       "    <tr style=\"text-align: right;\">\n",
       "      <th></th>\n",
       "      <th>0</th>\n",
       "      <th>1</th>\n",
       "    </tr>\n",
       "  </thead>\n",
       "  <tbody>\n",
       "    <tr>\n",
       "      <th>0</th>\n",
       "      <td>Full Sleeve Applique Women Jacket</td>\n",
       "      <td>₹474</td>\n",
       "    </tr>\n",
       "    <tr>\n",
       "      <th>1</th>\n",
       "      <td>Full Sleeve Solid Women Denim Jacket</td>\n",
       "      <td>₹474</td>\n",
       "    </tr>\n",
       "    <tr>\n",
       "      <th>2</th>\n",
       "      <td>3/4th Sleeve Solid Women Jacket</td>\n",
       "      <td>₹499</td>\n",
       "    </tr>\n",
       "    <tr>\n",
       "      <th>3</th>\n",
       "      <td>3/4th Sleeve Solid Women Jacket</td>\n",
       "      <td>₹499</td>\n",
       "    </tr>\n",
       "    <tr>\n",
       "      <th>4</th>\n",
       "      <td>Full Sleeve Solid Women Denim Jacket</td>\n",
       "      <td>₹474</td>\n",
       "    </tr>\n",
       "    <tr>\n",
       "      <th>5</th>\n",
       "      <td>3/4th Sleeve Solid Women Jacket</td>\n",
       "      <td>₹499</td>\n",
       "    </tr>\n",
       "    <tr>\n",
       "      <th>6</th>\n",
       "      <td>Full Sleeve Solid Women Denim Jacket</td>\n",
       "      <td>₹450</td>\n",
       "    </tr>\n",
       "    <tr>\n",
       "      <th>7</th>\n",
       "      <td>Full Sleeve Washed Men Jacket</td>\n",
       "      <td>₹1,259</td>\n",
       "    </tr>\n",
       "    <tr>\n",
       "      <th>8</th>\n",
       "      <td>Full Sleeve Solid Men's Jacket</td>\n",
       "      <td>₹2,249</td>\n",
       "    </tr>\n",
       "    <tr>\n",
       "      <th>9</th>\n",
       "      <td>Full Sleeve Washed Men Denim Jacket</td>\n",
       "      <td>₹1,399</td>\n",
       "    </tr>\n",
       "    <tr>\n",
       "      <th>10</th>\n",
       "      <td>Sleeveless Solid Boys Denim Jacket</td>\n",
       "      <td>₹729</td>\n",
       "    </tr>\n",
       "    <tr>\n",
       "      <th>11</th>\n",
       "      <td>3/4th Sleeve Solid Women Jacket</td>\n",
       "      <td>₹499</td>\n",
       "    </tr>\n",
       "    <tr>\n",
       "      <th>12</th>\n",
       "      <td>Full Sleeve Washed Women Jacket</td>\n",
       "      <td>₹599</td>\n",
       "    </tr>\n",
       "    <tr>\n",
       "      <th>13</th>\n",
       "      <td>Full Sleeve Solid Women Jacket</td>\n",
       "      <td>₹529</td>\n",
       "    </tr>\n",
       "    <tr>\n",
       "      <th>14</th>\n",
       "      <td>Full Sleeve Floral Print Women Denim Jacket</td>\n",
       "      <td>₹499</td>\n",
       "    </tr>\n",
       "    <tr>\n",
       "      <th>15</th>\n",
       "      <td>Full Sleeve Washed Women Jacket</td>\n",
       "      <td>₹599</td>\n",
       "    </tr>\n",
       "    <tr>\n",
       "      <th>16</th>\n",
       "      <td>Full Sleeve Washed Women Jacket</td>\n",
       "      <td>₹599</td>\n",
       "    </tr>\n",
       "    <tr>\n",
       "      <th>17</th>\n",
       "      <td>Full Sleeve Solid Men's Denim Jacket</td>\n",
       "      <td>₹1,499</td>\n",
       "    </tr>\n",
       "    <tr>\n",
       "      <th>18</th>\n",
       "      <td>Full Sleeve Solid Men Denim Jacket</td>\n",
       "      <td>₹1,208</td>\n",
       "    </tr>\n",
       "    <tr>\n",
       "      <th>19</th>\n",
       "      <td>Full Sleeve Solid Women Jacket</td>\n",
       "      <td>₹529</td>\n",
       "    </tr>\n",
       "  </tbody>\n",
       "</table>\n",
       "</div>"
      ],
      "text/plain": [
       "                                              0       1\n",
       "0             Full Sleeve Applique Women Jacket    ₹474\n",
       "1          Full Sleeve Solid Women Denim Jacket    ₹474\n",
       "2               3/4th Sleeve Solid Women Jacket    ₹499\n",
       "3               3/4th Sleeve Solid Women Jacket    ₹499\n",
       "4          Full Sleeve Solid Women Denim Jacket    ₹474\n",
       "5               3/4th Sleeve Solid Women Jacket    ₹499\n",
       "6          Full Sleeve Solid Women Denim Jacket    ₹450\n",
       "7                 Full Sleeve Washed Men Jacket  ₹1,259\n",
       "8                Full Sleeve Solid Men's Jacket  ₹2,249\n",
       "9           Full Sleeve Washed Men Denim Jacket  ₹1,399\n",
       "10           Sleeveless Solid Boys Denim Jacket    ₹729\n",
       "11              3/4th Sleeve Solid Women Jacket    ₹499\n",
       "12              Full Sleeve Washed Women Jacket    ₹599\n",
       "13               Full Sleeve Solid Women Jacket    ₹529\n",
       "14  Full Sleeve Floral Print Women Denim Jacket    ₹499\n",
       "15              Full Sleeve Washed Women Jacket    ₹599\n",
       "16              Full Sleeve Washed Women Jacket    ₹599\n",
       "17         Full Sleeve Solid Men's Denim Jacket  ₹1,499\n",
       "18           Full Sleeve Solid Men Denim Jacket  ₹1,208\n",
       "19               Full Sleeve Solid Women Jacket    ₹529"
      ]
     },
     "execution_count": 80,
     "metadata": {},
     "output_type": "execute_result"
    }
   ],
   "source": [
    "pd.DataFrame(items)"
   ]
  },
  {
   "cell_type": "code",
   "execution_count": null,
   "metadata": {},
   "outputs": [],
   "source": []
  },
  {
   "cell_type": "code",
   "execution_count": null,
   "metadata": {},
   "outputs": [],
   "source": []
  },
  {
   "cell_type": "code",
   "execution_count": 22,
   "metadata": {},
   "outputs": [],
   "source": [
    "res  = requests.get('https://www.flipkart.com/search?q=hey+there')"
   ]
  },
  {
   "cell_type": "code",
   "execution_count": null,
   "metadata": {},
   "outputs": [],
   "source": []
  },
  {
   "cell_type": "code",
   "execution_count": 22,
   "metadata": {},
   "outputs": [],
   "source": [
    "res  = requests.get('https://www.flipkart.com/search?q=hey+there')"
   ]
  }
 ],
 "metadata": {
  "kernelspec": {
   "display_name": "Python 3",
   "language": "python",
   "name": "python3"
  },
  "language_info": {
   "codemirror_mode": {
    "name": "ipython",
    "version": 3
   },
   "file_extension": ".py",
   "mimetype": "text/x-python",
   "name": "python",
   "nbconvert_exporter": "python",
   "pygments_lexer": "ipython3",
   "version": "3.6.9"
  }
 },
 "nbformat": 4,
 "nbformat_minor": 2
}
